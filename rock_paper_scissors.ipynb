{
  "nbformat": 4,
  "nbformat_minor": 0,
  "metadata": {
    "colab": {
      "provenance": [],
      "authorship_tag": "ABX9TyPiROAzqUGhVYLQBW8+dOIP",
      "include_colab_link": true
    },
    "kernelspec": {
      "name": "python3",
      "display_name": "Python 3"
    },
    "language_info": {
      "name": "python"
    }
  },
  "cells": [
    {
      "cell_type": "markdown",
      "metadata": {
        "id": "view-in-github",
        "colab_type": "text"
      },
      "source": [
        "<a href=\"https://colab.research.google.com/github/ManogyaJain121/airline-management-system/blob/main/rock_paper_scissors.ipynb\" target=\"_parent\"><img src=\"https://colab.research.google.com/assets/colab-badge.svg\" alt=\"Open In Colab\"/></a>"
      ]
    },
    {
      "cell_type": "code",
      "execution_count": null,
      "metadata": {
        "id": "nrLuz2YAYJ2z"
      },
      "outputs": [],
      "source": [
        "import random\n",
        "\n",
        "def get_user_choice():\n",
        "    \"\"\"Get user's choice (rock, paper, or scissors).\"\"\"\n",
        "    user_input = input(\"Enter your choice (rock, paper, or scissors): \").lower()\n",
        "    if user_input in ['rock', 'paper', 'scissors']:\n",
        "        return user_input\n",
        "    else:\n",
        "        print(\"Invalid input. Please try again.\")\n",
        "        return get_user_choice()\n",
        "\n",
        "def get_computer_choice():\n",
        "    \"\"\"Get computer's choice randomly.\"\"\"\n",
        "    computer_choices = ['rock', 'paper', 'scissors']\n",
        "    return random.choice(computer_choices)\n",
        "\n",
        "def determine_winner(user, computer):\n",
        "    \"\"\"Determine the winner based on the rules of the game.\"\"\"\n",
        "    if user == computer:\n",
        "        return \"tie\"\n",
        "    elif (user == 'rock' and computer == 'scissors') or \\\n",
        "         (user == 'scissors' and computer == 'paper') or \\\n",
        "         (user == 'paper' and computer == 'rock'):\n",
        "        return \"user\"\n",
        "    else:\n",
        "        return \"computer\"\n",
        "\n",
        "def main():\n",
        "    \"\"\"Main function to run the game.\"\"\"\n",
        "    print(\"Welcome to Rock, Paper, Scissors!\")\n",
        "    user_choice = get_user_choice()\n",
        "    computer_choice = get_computer_choice()\n",
        "    print(f\"User choice: {user_choice}\")\n",
        "    print(f\"Computer choice: {computer_choice}\")\n",
        "    winner = determine_winner(user_choice, computer_choice)\n",
        "    if winner == \"user\":\n",
        "        print(\"User wins!\")\n",
        "    elif winner == \"computer\":\n",
        "        print(\"Computer wins!\")\n",
        "    else:\n",
        "        print(\"It's a tie!\")\n",
        "\n",
        "if __name__ == \"__main__\":\n",
        "    main()"
      ]
    }
  ]
}